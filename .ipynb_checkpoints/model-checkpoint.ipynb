{
 "cells": [
  {
   "cell_type": "markdown",
   "metadata": {},
   "source": [
    "# Divorce predictor\n",
    "The data is from: https://archive.ics.uci.edu/ml/datasets/Divorce+Predictors+data+set, project created for #30Days10AIprojects by: https://doingai.tech/2020/01/30days10aiprojects/"
   ]
  },
  {
   "cell_type": "code",
   "execution_count": 1,
   "metadata": {},
   "outputs": [],
   "source": [
    "import numpy as np\n",
    "import pandas as pd"
   ]
  },
  {
   "cell_type": "code",
   "execution_count": 20,
   "metadata": {},
   "outputs": [
    {
     "name": "stdout",
     "output_type": "stream",
     "text": [
      "(170, 55)\n",
      "m=170, n=55\n"
     ]
    }
   ],
   "source": [
    "# Importing data\n",
    "data = np.array(pd.read_csv('data.csv', sep=';'))\n",
    "\n",
    "print(data.shape)\n",
    "# Number of training examples\n",
    "m = data.shape[0]\n",
    "# Number of features\n",
    "n = data.shape[1]\n",
    "\n",
    "print(f'm={m}, n={n}')"
   ]
  },
  {
   "cell_type": "code",
   "execution_count": null,
   "metadata": {},
   "outputs": [],
   "source": [
    "# TODO: ANN FROM SCRATCH"
   ]
  }
 ],
 "metadata": {
  "kernelspec": {
   "display_name": "Python 3",
   "language": "python",
   "name": "python3"
  },
  "language_info": {
   "codemirror_mode": {
    "name": "ipython",
    "version": 3
   },
   "file_extension": ".py",
   "mimetype": "text/x-python",
   "name": "python",
   "nbconvert_exporter": "python",
   "pygments_lexer": "ipython3",
   "version": "3.7.5"
  }
 },
 "nbformat": 4,
 "nbformat_minor": 2
}
